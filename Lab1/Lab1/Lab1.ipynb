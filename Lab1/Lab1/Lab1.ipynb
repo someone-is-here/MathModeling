{
 "cells": [
  {
   "cell_type": "code",
   "execution_count": 7,
   "id": "72aae1ff-b434-490d-be89-bcca350e0d74",
   "metadata": {},
   "outputs": [],
   "source": [
    "n = 10**6 #кол-во необходимых случайных событий   \n",
    "\n",
    "m = 2**31-1\n",
    "a = 1220703125\n",
    "c = 7\n",
    "x_prev = 7\n",
    "\n",
    "# Конгруэнтный метод\n",
    "def generator():\n",
    "    global x_prev\n",
    "    x_prev = (a*x_prev + c) % m\n",
    "    \n",
    "    return x_prev / m\n"
   ]
  },
  {
   "cell_type": "code",
   "execution_count": 8,
   "id": "33d6d23b-9530-411a-a35d-fe34ad0bfc27",
   "metadata": {},
   "outputs": [
    {
     "name": "stdout",
     "output_type": "stream",
     "text": [
      "100276\n",
      "899724\n"
     ]
    }
   ],
   "source": [
    "# Task 1: Иммитация простого случайного события\n",
    "def generate_simple_event(p):\n",
    "    if p < 0 or p > 1:\n",
    "         raise Exception(\"Probability should be in range 0..1\")\n",
    "        \n",
    "    num =  generator()\n",
    "    \n",
    "    if num < p:\n",
    "        return True\n",
    "        \n",
    "    return False\n",
    "\n",
    "def test_1(method_name, parameters):\n",
    "    true_counter = 0\n",
    "    false_counter = 0\n",
    "\n",
    "    for i in range(n):\n",
    "        if(method_name(parameters)):\n",
    "            true_counter += 1\n",
    "        else:\n",
    "            false_counter += 1\n",
    "\n",
    "    print(true_counter)\n",
    "    print(false_counter)\n",
    "\n",
    "\n",
    "test_1(generate_simple_event, 0.1)"
   ]
  },
  {
   "cell_type": "code",
   "execution_count": 9,
   "id": "226e4723-15fb-4ae4-b37a-0d84781240ea",
   "metadata": {},
   "outputs": [
    {
     "name": "stdout",
     "output_type": "stream",
     "text": [
      "[[100243, 899757], [499850, 500150], [399217, 600783]]\n"
     ]
    }
   ],
   "source": [
    "# Task 2: Иммитация сложного события\n",
    "def generator_complex_event(list_with_probabilities):\n",
    "    result_with_generated_events = []\n",
    "    \n",
    "    for i in list_with_probabilities:\n",
    "        result_with_generated_events.append(generate_simple_event(i))\n",
    "\n",
    "    return result_with_generated_events\n",
    "\n",
    "\n",
    "def test_2(method_name, parameters):\n",
    "    arr = [[0 for j in range(2)] for i in range(len(parameters))]\n",
    "    \n",
    "    for i in range(n):\n",
    "        arr_event_result = method_name(parameters)\n",
    "        for j in range(len(arr_event_result)):\n",
    "            if arr_event_result[j]:\n",
    "                arr[j][0] += 1\n",
    "            else:\n",
    "                arr[j][1] += 1\n",
    "\n",
    "    print(arr)\n",
    "\n",
    "\n",
    "test_2(generator_complex_event, [0.1, 0.5, 0.4])"
   ]
  },
  {
   "cell_type": "code",
   "execution_count": 10,
   "id": "dc99b601-425b-4d57-8f5b-d99cf806dfc0",
   "metadata": {},
   "outputs": [
    {
     "data": {
      "text/plain": [
       "[100229, 400131, 299584, 200056]"
      ]
     },
     "execution_count": 10,
     "metadata": {},
     "output_type": "execute_result"
    }
   ],
   "source": [
    "# Task 4 : Иммитация событий, образующих полную группу\n",
    "def generator_full_group_event(list_with_probabilities):\n",
    "    arr_ranges = []\n",
    "    prev = 0\n",
    "    for i in list_with_probabilities:\n",
    "        prev += i\n",
    "        arr_ranges.append(prev)\n",
    "\n",
    "    num = generator()\n",
    "    \n",
    "    for i in range(len(arr_ranges)):\n",
    "        if num > arr_ranges[i]:\n",
    "            continue\n",
    "            \n",
    "        return i\n",
    "\n",
    "\n",
    "def test_4(method_name, param):\n",
    "    arr_result = [0 for i in range(len(param))]\n",
    "    \n",
    "    for i in range(n):\n",
    "        num = method_name(param)\n",
    "        arr_result[num] += 1\n",
    "\n",
    "    return arr_result\n",
    "        \n",
    "test_4(generator_full_group_event, [0.1, 0.4, 0.3, 0.2])"
   ]
  },
  {
   "cell_type": "code",
   "execution_count": 11,
   "id": "5d20b1dc-4c20-4e01-a0e0-681852fdf545",
   "metadata": {},
   "outputs": [
    {
     "data": {
      "text/plain": [
       "[19926, 180415, 80088, 719571]"
      ]
     },
     "execution_count": 11,
     "metadata": {},
     "output_type": "execute_result"
    }
   ],
   "source": [
    "# Task 3: Иммитация сложного события, состоящего из зависимых событий\n",
    "def generator_depended_complex_event(a_probability, b_a_probability):\n",
    "    # Find P(B)\n",
    "    b_probability = b_a_probability\n",
    "    arr_ranges = []\n",
    "    arr_ranges.append(a_probability * b_probability) # P(AB)\n",
    "    arr_ranges.append((1 - a_probability) * b_probability + arr_ranges[0]) # P(~AB)\n",
    "    arr_ranges.append(a_probability * (1 - b_probability) + arr_ranges[1]) # P(A~B)\n",
    "    arr_ranges.append((1 - a_probability) * (1 - b_probability) + arr_ranges[2]) # P(~A~B)\n",
    "\n",
    "    num = generator()\n",
    "    \n",
    "    for i in range(len(arr_ranges)):\n",
    "        if num > arr_ranges[i]:\n",
    "            continue\n",
    "            \n",
    "        return i\n",
    "\n",
    "\n",
    "def test_3(method_name, param):\n",
    "    arr_result = [0 for i in range(4)]\n",
    "    \n",
    "    for i in range(n):\n",
    "        num = method_name(param[0], param[1])\n",
    "        arr_result[num] += 1\n",
    "\n",
    "    return arr_result\n",
    "    \n",
    "test_3(generator_depended_complex_event, [0.1, 0.2])\n",
    "    "
   ]
  },
  {
   "cell_type": "code",
   "execution_count": 12,
   "id": "d1e7d523-d020-4d52-be20-377e4d8d5778",
   "metadata": {},
   "outputs": [
    {
     "name": "stdout",
     "output_type": "stream",
     "text": [
      "[903135, 78595, 18270]\n"
     ]
    }
   ],
   "source": [
    "import math\n",
    "\n",
    "list = [\"Apple\",\"Orange\",\"Banana\", \"Apricot\", \"Avocado\", \"Coconut\", \"Durian\", \"Dragonfruit\", \"Fig\",\"Gooseberry\"]\n",
    "list_r = [\"Mango\",\"Grape\", \"Guava\", \"Jackfruit\", \"Plum\", \"Kiwifruit\", \"Kumquat\", \"Lemon\", \"Lime\", \"Watermelon\"]\n",
    "list_u = [\"Blueberry\", \"Raspberry\", \"Cranberry\", \"Strawberry\", \"Blackberry\",\"Boysenberry\",\"Mulberry\"]\n",
    "\n",
    "\n",
    "def generate_set(p_r=0.08, p_u=0.02):\n",
    "    result_of_generator = generator_depended_complex_event(p_r, p_u)\n",
    "    result_set_of_cards = []\n",
    "    result_set_number = None # 0-simple 1-with rare 2-with unique\n",
    "    \n",
    "    # Исключаем возможность ультра-редкой и редкой одновременно\n",
    "    while(result_of_generator == 0):\n",
    "        result_of_generator = generator_depended_complex_event(p_r, p_u)\n",
    "    \n",
    "    if result_of_generator == 1:\n",
    "        index = math.floor(generator() * len(list_u))\n",
    "        result_set_of_cards.append(list_u[index])\n",
    "        result_set_number = 2\n",
    "    elif result_of_generator == 2:\n",
    "        index = math.floor(generator() * len(list_r))\n",
    "        result_set_of_cards.append(list_r[index])\n",
    "        result_set_number = 1\n",
    " \n",
    "    for i in range(len(result_set_of_cards), 5):\n",
    "        index = math.floor(generator() * len(list))\n",
    "        result_set_of_cards.append(list[index])\n",
    "        \n",
    "        if(result_set_number is None):\n",
    "            result_set_number = 0\n",
    "\n",
    "    return result_set_of_cards, result_set_number\n",
    "\n",
    "\n",
    "def test():\n",
    "    arr_statistics = [0] * 3\n",
    "    \n",
    "    for i in range(n):\n",
    "        _, set_number = generate_set()\n",
    "        arr_statistics[set_number] += 1\n",
    "        \n",
    "    print(arr_statistics)\n",
    "\n",
    "\n",
    "test()"
   ]
  },
  {
   "cell_type": "code",
   "execution_count": null,
   "id": "e845cbbd-b2c5-4cd1-bb6d-9b2740c891d6",
   "metadata": {},
   "outputs": [],
   "source": []
  }
 ],
 "metadata": {
  "kernelspec": {
   "display_name": "Python 3 (ipykernel)",
   "language": "python",
   "name": "python3"
  },
  "language_info": {
   "codemirror_mode": {
    "name": "ipython",
    "version": 3
   },
   "file_extension": ".py",
   "mimetype": "text/x-python",
   "name": "python",
   "nbconvert_exporter": "python",
   "pygments_lexer": "ipython3",
   "version": "3.11.0"
  }
 },
 "nbformat": 4,
 "nbformat_minor": 5
}
